{
 "cells": [
  {
   "cell_type": "code",
   "execution_count": 18,
   "metadata": {
    "collapsed": true
   },
   "outputs": [],
   "source": [
    "import sys, random, os, json\n",
    "sys.path.append(sys.path.append(os.path.join(os.getcwd(), '..')))\n",
    "from datamart.augment import Augment\n",
    "import pandas as pd"
   ]
  },
  {
   "cell_type": "code",
   "execution_count": 2,
   "metadata": {},
   "outputs": [],
   "source": [
    "es_index = \"datamart\"\n",
    "\n",
    "augment = Augment(es_index=es_index)"
   ]
  },
  {
   "cell_type": "markdown",
   "metadata": {},
   "source": [
    "### Initialize a dataframe"
   ]
  },
  {
   "cell_type": "code",
   "execution_count": 3,
   "metadata": {},
   "outputs": [
    {
     "name": "stdout",
     "output_type": "stream",
     "text": [
      "          city country\n0  los angeles      US\n1     New york      US\n2     Shanghai   China\n3        SAFDA    fwfb\n4   manchester      UK\n"
     ]
    }
   ],
   "source": [
    "old_df = pd.DataFrame(data={\n",
    "    'city': [\"los angeles\", \"New york\", \"Shanghai\", \"SAFDA\", \"manchester\"],\n",
    "    'country': [\"US\", \"US\", \"China\", \"fwfb\", \"UK\"],\n",
    "})\n",
    "\n",
    "print(old_df)"
   ]
  },
  {
   "cell_type": "markdown",
   "metadata": {
    "collapsed": false
   },
   "source": [
    "### Search metadata\n",
    "Query by a column, which is query on variable.named_entities, by default, if a metadata matches more than half of cells in original dataframe, it is a hit. Can specify minimum should match with minimum_should_match parameter"
   ]
  },
  {
   "cell_type": "code",
   "execution_count": 4,
   "metadata": {},
   "outputs": [
    {
     "name": "stdout",
     "output_type": "stream",
     "text": [
      "136\n"
     ]
    }
   ],
   "source": [
    "hitted_metadatas = augment.query_by_column(\n",
    "    col=old_df.loc[:, \"city\"], \n",
    "    minimum_should_match=len(old_df.loc[:, 'city'].unique().tolist())//2)\n",
    "\n",
    "print(len(hitted_metadatas))"
   ]
  },
  {
   "cell_type": "markdown",
   "metadata": {},
   "source": [
    "### Query by key value pairs"
   ]
  },
  {
   "cell_type": "code",
   "execution_count": 5,
   "metadata": {},
   "outputs": [
    {
     "name": "stdout",
     "output_type": "stream",
     "text": [
      "8\n"
     ]
    }
   ],
   "source": [
    "hitted_metadatas = augment.query_by_key_value_pairs(key_value_pairs=[\n",
    "    (\"description\", \"average\")\n",
    "])\n",
    "\n",
    "print(len(hitted_metadatas))"
   ]
  },
  {
   "cell_type": "markdown",
   "metadata": {},
   "source": [
    "### Query by temporal coverage"
   ]
  },
  {
   "cell_type": "code",
   "execution_count": 6,
   "metadata": {},
   "outputs": [
    {
     "name": "stdout",
     "output_type": "stream",
     "text": [
      "124\n"
     ]
    }
   ],
   "source": [
    "hitted_metadatas = augment.query_by_temporal_coverage(\n",
    "    start=\"2018-09-23\", \n",
    "    end=\"2018-09-30T00:00:00\")\n",
    "\n",
    "print(len(hitted_metadatas))"
   ]
  },
  {
   "cell_type": "markdown",
   "metadata": {},
   "source": [
    "With some ranking methods, say we want to augment with a specific metadata, datamart id 1230000"
   ]
  },
  {
   "cell_type": "code",
   "execution_count": 7,
   "metadata": {},
   "outputs": [],
   "source": [
    "metadata = augment.query_by_datamart_id(datamart_id=1230000)[0]"
   ]
  },
  {
   "cell_type": "code",
   "execution_count": 19,
   "metadata": {},
   "outputs": [
    {
     "name": "stdout",
     "output_type": "stream",
     "text": [
      "{\n  \"datamart_id\": 1230000,\n  \"title\": \"TAVG\",\n  \"description\": \"Average temperature (tenths of degrees C)[Note that TAVG from source 'S' corresponds to an average for the period ending at 2400 UTC rather than local midnight]\",\n  \"url\": \"https://www1.ncdc.noaa.gov/pub/data/ghcn/daily/readme.txt\",\n  \"keywords\": [\n    \"Average Temperature.\"\n  ],\n  \"provenance\": \"noaa.org\",\n  \"materialization\": {\n    \"python_path\": \"noaa_materializer\",\n    \"arguments\": {\n      \"type\": \"TAVG\"\n    }\n  },\n  \"variables\": [\n    {\n      \"datamart_id\": 1230001,\n      \"name\": \"date\",\n      \"description\": \"the date of data\",\n      \"semantic_type\": [\n        \"https://metadata.datadrivendiscovery.org/types/Time\"\n      ],\n      \"temporal_coverage\": {\n        \"start\": \"1874-10-13T00:00:00\",\n        \"end\": \"2018-10-01T00:00:00\"\n      }\n    },\n    {\n      \"datamart_id\": 1230002,\n      \"name\": \"stationId\",\n      \"description\": \"the id of station which has this data\",\n      \"semantic_type\": [\n        \"https://metadata.datadrivendiscovery.org/types/CategoricalData\"\n      ]\n    },\n    {\n      \"datamart_id\": 1230003,\n      \"name\": \"city\",\n      \"description\": \"the city data belongs to\",\n      \"semantic_type\": [\n        \"https://metadata.datadrivendiscovery.org/types/Location\"\n      ],\n      \"named_entity\": [\n        \"abu dhabi\",\n        \"ajman\",\n        \"dubai\",\n        \"sharjah\",\n        \"kabul\",\n        \"kandahar\",\n        \"algiers\",\n        \"annaba\",\n        \"batna\",\n        \"bechar\",\n        \"bejaia\",\n        \"constantine\",\n        \"guelma\",\n        \"laghouat\",\n        \"medea\",\n        \"mostaganem\",\n        \"oran\",\n        \"oum el bouaghi\",\n        \"saida\",\n        \"sidi-bel-abbes\",\n        \"skikda\",\n        \"tamanrasset\",\n        \"tlemcen\",\n        \"baku\",\n        \"naxcivian\",\n        \"durres\",\n        \"shkoder\",\n        \"tirana\",\n        \"yerevan\",\n        \"luanda\",\n        \"lubango\",\n        \"namibe\",\n        \"bahia blanca\",\n        \"buenos aires\",\n        \"catamarca\",\n        \"comodoro rivadavia\",\n        \"cordoba\",\n        \"corrientes\",\n        \"formosa\",\n        \"la plata\",\n        \"la rioja\",\n        \"mendoza\",\n        \"neuquen\",\n        \"parana\",\n        \"posadas\",\n        \"resistencia\",\n        \"rio gallegos\",\n        \"rosario\",\n        \"salta\",\n        \"san juan\",\n        \"san luis\",\n        \"san miguel de tucuman\",\n        \"santa rosa\",\n        \"santiago del estero\",\n        \"ushuaia\",\n        \"adelaide\",\n        \"brisbane\",\n        \"cairns\",\n        \"canberra\",\n        \"darwin\",\n        \"melbourne\",\n        \"newcastle\",\n        \"perth\",\n        \"rockhampton\",\n        \"sydney\",\n        \"townsville\",\n        \"graz\",\n        \"innsbruck\",\n        \"klagenfurt\",\n        \"salzburg\",\n        \"vienna\",\n        \"al-muharraq\",\n        \"manama\",\n        \"bridgetown\",\n        \"francistown\",\n        \"gaborone\",\n        \"molepolole\",\n        \"brussels\",\n        \"gent\",\n        \"hasselt\",\n        \"liege\",\n        \"nassau\",\n        \"barisal\",\n        \"chittagong\",\n        \"dhaka\",\n        \"rajshahi\",\n        \"belize\",\n        \"sarajevo\",\n        \"cochabamba\",\n        \"la paz\",\n        \"oruro\",\n        \"potosi\",\n        \"santa cruz de la sierra\",\n        \"sucre\",\n        \"tarija\",\n        \"trinidad\",\n        \"mandalay\",\n        \"myitkyina\",\n        \"rangoon\",\n        \"sagaing\",\n        \"sittwe\",\n        \"abomey\",\n        \"cotonou\",\n        \"lokossa\",\n        \"natitingou\",\n        \"parakou\",\n        \"brest\",\n        \"homyel'\",\n        \"hrodna\",\n        \"mahilyow\",\n        \"minsk\",\n        \"vitsyebsk\",\n        \"honiara\",\n        \"aracaju\",\n        \"belem\",\n        \"belo horizonte\",\n        \"boa vista\",\n        \"brasilia\",\n        \"campo grande\",\n        \"cuiaba\",\n        \"curitiba\",\n        \"florianopolis\",\n        \"fortaleza\",\n        \"goiania\",\n        \"joao pessoa\",\n        \"macapa\",\n        \"maceio\",\n        \"manaus\",\n        \"natal\",\n        \"niteroi\",\n        \"palmas\",\n        \"porto alegre\",\n        \"porto velho\",\n        \"recife\",\n        \"rio branco\",\n        \"rio de janeiro\",\n        \"salvador\",\n        \"santarem\",\n        \"santos\",\n        \"sao luis\",\n        \"sao paulo\",\n        \"teresina\",\n        \"vitoria\",\n        \"sofia\",\n        \"varna\",\n        \"bandar seri begawan\",\n        \"bujumbura\",\n        \"muyinga\",\n        \"calgary\",\n        \"edmonton\",\n        \"fredericton\",\n        \"halifax\",\n        \"montreal\",\n        \"ottawa\",\n        \"quebec\",\n        \"regina\",\n        \"saint john\",\n        \"saskatoon\",\n        \"toronto\",\n        \"vancouver\",\n        \"victoria\",\n        \"winnipeg\",\n        \"phnom penh\",\n        \"abeche\",\n        \"moundou\",\n        \"ndjamena\",\n        \"sarh\",\n        \"colombo\",\n        \"trincomalee\",\n        \"brazzaville\",\n        \"loubomo\",\n        \"pointe noire\",\n        \"bandundu\",\n        \"kananga\",\n        \"kinshasa\",\n        \"lumumbashi\",\n        \"matadi\",\n        \"mbandaka\",\n        \"mbuji-mayi\",\n        \"beijing\",\n        \"changchun\",\n        \"changsha\",\n        \"chengdu\",\n        \"chongqing\",\n        \"dalian\",\n        \"fushun\",\n        \"fuzhou\",\n        \"guangzhou\",\n        \"guiyang\",\n        \"hangzhou\",\n        \"harbin\",\n        \"hefei\",\n        \"hong kong\",\n        \"huhot\",\n        \"jinan\",\n        \"kashi\",\n        \"kunming\",\n        \"lanzhou\",\n        \"lhasa\",\n        \"macau\",\n        \"nanchang\",\n        \"nanjing\",\n        \"nanning\",\n        \"qingdao\",\n        \"qiqihar\",\n        \"shanghai\",\n        \"shenyang\",\n        \"shijiazhuang\",\n        \"taiyuan\",\n        \"tianjin\",\n        \"urumqi\",\n        \"wuhan\",\n        \"xi'an\",\n        \"xining\",\n        \"yinchuan\",\n        \"zhengzhou\",\n        \"antofagasta\",\n        \"concepcion\",\n        \"copiapo\",\n        \"coquimbo\",\n        \"la serena\",\n        \"puerto montt\",\n        \"punta arenas\",\n        \"santiago\",\n        \"temuco\",\n        \"bertoua\",\n        \"douala\",\n        \"garoua\",\n        \"maroua\",\n        \"ngaoundere\",\n        \"arauca\",\n        \"armenia\",\n        \"barranquilla\",\n        \"bogota\",\n        \"bucaramanga\",\n        \"cali\",\n        \"cartagena\",\n        \"cucuta\",\n        \"ibague\",\n        \"medellin\",\n        \"monteria\",\n        \"neiva\",\n        \"pasto\",\n        \"pereira\",\n        \"quibdo\",\n        \"riohacha\",\n        \"san andres\",\n        \"santa marta\",\n        \"valledupar\",\n        \"villavicencio\",\n        \"puerto limon\",\n        \"san jose\",\n        \"bangui\",\n        \"berberati\",\n        \"camaguey\",\n        \"havana\",\n        \"matanzas\",\n        \"praia\",\n        \"lemesos\",\n        \"nicosia\",\n        \"alborg\",\n        \"copenhagen\",\n        \"santo domingo\",\n        \"babahoyo\",\n        \"loja\",\n        \"portoviejo\",\n        \"quito\",\n        \"al ghurdaqah\",\n        \"alexandria\",\n        \"aswan\",\n        \"cairo\",\n        \"giza\",\n        \"ismailia\",\n        \"marsa matruh\",\n        \"qena\",\n        \"suez\",\n        \"cork\",\n        \"dublin\",\n        \"galway\",\n        \"bata\",\n        \"malabo\",\n        \"tallinn\",\n        \"asmara\",\n        \"nueva san salvador\",\n        \"san salvador\",\n        \"sonsonate\",\n        \"addis ababa\",\n        \"arba minch\",\n        \"awasa\",\n        \"debre markos\",\n        \"dese\",\n        \"gonder\",\n        \"jima\",\n        \"brno\",\n        \"ostrava\",\n        \"prague\",\n        \"usti nad labem\",\n        \"cayenne\",\n        \"helsinki\",\n        \"joensuu\",\n        \"jyvaskyla\",\n        \"kuopio\",\n        \"oulu\",\n        \"turku\",\n        \"suva\",\n        \"ajaccio\",\n        \"amiens\",\n        \"besancon\",\n        \"caen\",\n        \"clermont-ferrand\",\n        \"dijon\",\n        \"le havre\",\n        \"lille\",\n        \"limoges\",\n        \"lyon\",\n        \"marseille\",\n        \"montpellier\",\n        \"nancy\",\n        \"nantes\",\n        \"orleans\",\n        \"paris\",\n        \"poitiers\",\n        \"reims\",\n        \"rennes\",\n        \"rouen\",\n        \"strasbourg\",\n        \"toulouse\",\n        \"brikama\",\n        \"libreville\",\n        \"port gentil\",\n        \"bat'umi\",\n        \"sokhumi\",\n        \"t'bilisi\",\n        \"accra\",\n        \"ho\",\n        \"koforidua\",\n        \"kumasi\",\n        \"sekondi\",\n        \"sunyani\",\n        \"tamale\",\n        \"wa\",\n        \"berlin\",\n        \"bonn\",\n        \"bremen\",\n        \"bremerhaven\",\n        \"cologne\",\n        \"dortmund\",\n        \"dresden\",\n        \"duisburg\",\n        \"dusseldorf\",\n        \"erfurt\",\n        \"essen\",\n        \"frankfurt\",\n        \"hamburg\",\n        \"hannover\",\n        \"kiel\",\n        \"leipzig\",\n        \"magdeburg\",\n        \"mainz\",\n        \"munich\",\n        \"potsdam\",\n        \"saarbrucken\",\n        \"schwerin\",\n        \"stuttgart\",\n        \"wiesbaden\",\n        \"athens\",\n        \"ioannina\",\n        \"iraklion\",\n        \"larisa\",\n        \"piraeus\",\n        \"thessaloniki\",\n        \"guatemala\",\n        \"conakry\",\n        \"kankan\",\n        \"kindia\",\n        \"nzerekore\",\n        \"georgetown\",\n        \"la ceiba\",\n        \"san pedro sula\",\n        \"tegucigalpa\",\n        \"rijeka\",\n        \"zagreb\",\n        \"budapest\",\n        \"debrecen\",\n        \"miskolc\",\n        \"pecs\",\n        \"szeged\",\n        \"szombathely\",\n        \"reykjavik\",\n        \"ambon\",\n        \"balikpapan\",\n        \"banda aceh\",\n        \"bandjermasin\",\n        \"bengkulu\",\n        \"denpasar\",\n        \"jakarta\",\n        \"jambi\",\n        \"jayapura\",\n        \"kupang\",\n        \"makassar\",\n        \"manado\",\n        \"mataram\",\n        \"medan\",\n        \"padang\",\n        \"palembang\",\n        \"palu\",\n        \"pontianak\",\n        \"samarinda\",\n        \"semarang\",\n        \"surabaja\",\n        \"tanjungkarang-telukbetung\",\n        \"agartala\",\n        \"ahmadabad\",\n        \"aizawl\",\n        \"amritsar\",\n        \"bangalore\",\n        \"bhopal\",\n        \"bhubaneshwar\",\n        \"chandigarh\",\n        \"chennai\",\n        \"cochin\",\n        \"delhi\",\n        \"hyderabad\",\n        \"imphal\",\n        \"jaipur\",\n        \"kanpur\",\n        \"kohima\",\n        \"kolkata\",\n        \"lucknow\",\n        \"madurai\",\n        \"mangalore\",\n        \"mumbai\",\n        \"nagpur\",\n        \"new delhi\",\n        \"panaji\",\n        \"patna\",\n        \"pondicherry\",\n        \"port blair\",\n        \"pune\",\n        \"shillong\",\n        \"simla\",\n        \"trivandrum\",\n        \"varanasi\",\n        \"vishakhapatnam\",\n        \"ahvaz\",\n        \"arak\",\n        \"esfahan\",\n        \"hamadan\",\n        \"ilam\",\n        \"kerman\",\n        \"kermanshah\",\n        \"khorramabad\",\n        \"mashhad\",\n        \"rasht\",\n        \"sanandaj\",\n        \"semnan\",\n        \"shahr-e kord\",\n        \"shiraz\",\n        \"tabriz\",\n        \"tehran\",\n        \"yazd\",\n        \"zahedan\",\n        \"zanjan\",\n        \"beersheba\",\n        \"jerusalem\",\n        \"ramla\",\n        \"tel aviv-yafo\",\n        \"bologna\",\n        \"cagliari\",\n        \"campobasso\",\n        \"genoa\",\n        \"milan\",\n        \"naples\",\n        \"palermo\",\n        \"rome\",\n        \"trento\",\n        \"trieste\",\n        \"turin\",\n        \"abidjan\",\n        \"bondoukou\",\n        \"bouake\",\n        \"daloa\",\n        \"dimbokro\",\n        \"ferkessedougou\",\n        \"gagnoa\",\n        \"korhogo\",\n        \"man\",\n        \"yamoussoukro\",\n        \"al basrah\",\n        \"aomori\",\n        \"fukuoka\",\n        \"gifu\",\n        \"hiroshima\",\n        \"kawasaki\",\n        \"kita kyushu\",\n        \"kobe\",\n        \"kyoto\",\n        \"nagasaki\",\n        \"nagoya\",\n        \"naha\",\n        \"osaka\",\n        \"sapporo\",\n        \"sendai\",\n        \"shimonoseki\",\n        \"tokyo\",\n        \"yokohama\",\n        \"kingston\",\n        \"montego bay\",\n        \"spanish town\",\n        \"al mafraq\",\n        \"az zarqa'\",\n        \"irbid\",\n        \"mombasa\",\n        \"nairobi\",\n        \"bishkek\",\n        \"karakol\",\n        \"osh\",\n        \"haeju\",\n        \"hyesan\",\n        \"kaesong\",\n        \"p'yongyang\",\n        \"sariwon\",\n        \"sinuiju\",\n        \"wonsan\",\n        \"ch'unch'on\",\n        \"ch'ungju\",\n        \"cheju\",\n        \"chonju\",\n        \"inch`on\",\n        \"kwangju\",\n        \"pusan\",\n        \"seoul\",\n        \"taegu\",\n        \"taejon\",\n        \"kuwait\",\n        \"aktyubinsk\",\n        \"almaty\",\n        \"astana\",\n        \"atyrau\",\n        \"dzhambul\",\n        \"karaganda\",\n        \"kokshetau\",\n        \"kostanay\",\n        \"kyzylorda\",\n        \"pavlodar\",\n        \"petropavlovsk\",\n        \"semipalatinsk\",\n        \"shymkent\",\n        \"taldykorgan\",\n        \"ural'sk\",\n        \"ust'-kamenogorsk\",\n        \"zhezkazgan\",\n        \"savannakhet\",\n        \"vientiane\",\n        \"beirut\",\n        \"tripoli\",\n        \"zahle\",\n        \"riga\",\n        \"vilnius\",\n        \"monrovia\",\n        \"banska bystrica\",\n        \"kosice\",\n        \"mafeteng\",\n        \"maseru\",\n        \"luxembourg\",\n        \"ajdabiya\",\n        \"al khums\",\n        \"benghazi\",\n        \"darnah\",\n        \"misratah\",\n        \"antananarivo\",\n        \"antsiranana\",\n        \"fianarantsoa\",\n        \"mahajanga\",\n        \"toamasina\",\n        \"toliara\",\n        \"fort-de-france\",\n        \"chisinau\",\n        \"mamoutzou\",\n        \"ulaanbaatar\",\n        \"blantyre\",\n        \"lilongwe\",\n        \"podgorica\",\n        \"skopje\",\n        \"bamako\",\n        \"gao\",\n        \"kayes\",\n        \"mopti\",\n        \"segou\",\n        \"sikasso\",\n        \"casablanca\",\n        \"marrakech\",\n        \"meknes\",\n        \"oujda\",\n        \"rabat\",\n        \"port louis\",\n        \"nouadhibou\",\n        \"nouakchott\",\n        \"muscat\",\n        \"acapulco\",\n        \"aguascalientes\",\n        \"campeche\",\n        \"chetumal\",\n        \"chihuahua\",\n        \"chilpancingo de los bravo\",\n        \"ciudad victoria\",\n        \"colima\",\n        \"cuernavaca\",\n        \"culiacan\",\n        \"durango\",\n        \"guadalajara\",\n        \"guanajuato\",\n        \"hermosillo\",\n        \"jalapa\",\n        \"mazatlan\",\n        \"merida\",\n        \"mexicali\",\n        \"mexico\",\n        \"monterrey\",\n        \"morelia\",\n        \"oaxaca\",\n        \"pachuca\",\n        \"puebla\",\n        \"queretaro\",\n        \"saltillo\",\n        \"san luis potosi\",\n        \"tampico\",\n        \"tepic\",\n        \"tlaxcala\",\n        \"toluca\",\n        \"tuxtla gutierrez\",\n        \"veracruz\",\n        \"villahermosa\",\n        \"zacatecas\",\n        \"johor baharu\",\n        \"kota baharu\",\n        \"kota kinabalu\",\n        \"kuala lumpur\",\n        \"kuantan new port\",\n        \"kuching\",\n        \"melaka\",\n        \"pinang\",\n        \"shah alam\",\n        \"beira\",\n        \"chimoio\",\n        \"inhambane\",\n        \"lichinga\",\n        \"maputo\",\n        \"nampula\",\n        \"pemba\",\n        \"quelimane\",\n        \"tete\",\n        \"xai-xai\",\n        \"maradi\",\n        \"niamey\",\n        \"tahoua\",\n        \"zinder\",\n        \"enugu\",\n        \"ilorin\",\n        \"jos\",\n        \"kano\",\n        \"lagos\",\n        \"maiduguri\",\n        \"makurdi\",\n        \"minna\",\n        \"port harcourt\",\n        \"yola\",\n        \"'s-hertogenbosch\",\n        \"amsterdam\",\n        \"arnhem\",\n        \"assen\",\n        \"groningen\",\n        \"haarlem\",\n        \"leeuwarden\",\n        \"maastricht\",\n        \"rotterdam\",\n        \"the hague\",\n        \"utrecht\",\n        \"zwolle\",\n        \"bergen\",\n        \"drammen\",\n        \"kristiansand\",\n        \"oslo\",\n        \"stavanger\",\n        \"tromso\",\n        \"trondheim\",\n        \"bhairawa\",\n        \"biratnagar\",\n        \"kathmandu\",\n        \"willemstad\",\n        \"chinandega\",\n        \"esteli\",\n        \"jinotega\",\n        \"juigalpa\",\n        \"managua\",\n        \"masaya\",\n        \"matagalpa\",\n        \"auckland\",\n        \"christchurch\",\n        \"wellington\",\n        \"asuncion\",\n        \"coronel oviedo\",\n        \"encarnacion\",\n        \"arequipa\",\n        \"ayacucho\",\n        \"cajamarca\",\n        \"callao\",\n        \"chiclayo\",\n        \"cuzco\",\n        \"huanuco\",\n        \"huaraz\",\n        \"iquitos\",\n        \"lima\",\n        \"piura\",\n        \"pucallpa\",\n        \"tacna\",\n        \"trujillo\",\n        \"tumbes\",\n        \"islamabad\",\n        \"karachi\",\n        \"lahore\",\n        \"peshawar\",\n        \"quetta\",\n        \"rawalpindi\",\n        \"bialystok\",\n        \"elblag\",\n        \"krakow\",\n        \"poznan\",\n        \"siedlce\",\n        \"szczecin\",\n        \"warsaw\",\n        \"wroclaw\",\n        \"colon\",\n        \"panama\",\n        \"aveiro\",\n        \"braga\",\n        \"coimbra\",\n        \"evora\",\n        \"funchal\",\n        \"lisbon\",\n        \"porto\",\n        \"port moresby\",\n        \"bissau\",\n        \"doha\",\n        \"belgrade\",\n        \"saint-denis\",\n        \"arad\",\n        \"bacau\",\n        \"baia mare\",\n        \"bistrita\",\n        \"botosani\",\n        \"braila\",\n        \"bucharest\",\n        \"buzau\",\n        \"calarasi\",\n        \"cluj-napoca\",\n        \"constanta\",\n        \"craiova\",\n        \"deva\",\n        \"drobeta- turmu sererin\",\n        \"galati\",\n        \"iasi\",\n        \"rimnicu vilcea\",\n        \"sibiu\",\n        \"suceava\",\n        \"targu jiu\",\n        \"timisoara\",\n        \"tulcea\",\n        \"manila\",\n        \"mayaguez\",\n        \"ponce\",\n        \"abakan\",\n        \"arkangel'sk\",\n        \"astrakhan\",\n        \"barnaul\",\n        \"belgorod\",\n        \"birobidzhan\",\n        \"blagoveshchensk\",\n        \"ceboksary\",\n        \"chelyabinsk\",\n        \"chita\",\n        \"elista\",\n        \"gor'kiy\",\n        \"gorno-altaysk\",\n        \"groznyy\",\n        \"irkutsk\",\n        \"ivanovo\",\n        \"izevsk\",\n        \"kaliningrad\",\n        \"kaluga\",\n        \"kazan'\",\n        \"kemerovo\",\n        \"khabarovsk\",\n        \"khanty-mansiysk\",\n        \"klintsy\",\n        \"kostroma\",\n        \"kotlas\",\n        \"krasnodar\",\n        \"krasnoyarsk\",\n        \"kurgan\",\n        \"kursk\",\n        \"kuybyskev\",\n        \"kyzyl\",\n        \"lipetsk\",\n        \"machackala\",\n        \"magadan\",\n        \"majkop\",\n        \"moscow\",\n        \"murmansk\",\n        \"nazran\",\n        \"novgorod\",\n        \"novokuznetsk\",\n        \"novosibirsk\",\n        \"omsk\",\n        \"orel\",\n        \"orenburg\",\n        \"penza\",\n        \"perm'\",\n        \"petropavloski-kamchatskiy\",\n        \"petrozavodsk\",\n        \"pskov\",\n        \"rostov-on-don\",\n        \"ryazan\",\n        \"saint petersburg\",\n        \"saransk\",\n        \"saratov\",\n        \"smolensk\",\n        \"stavropol\",\n        \"sverdlovsk\",\n        \"syktyvkar\",\n        \"tambov\",\n        \"tomsk\",\n        \"tula\",\n        \"tver\",\n        \"tyumen\",\n        \"ufa\",\n        \"ul'yanovsk\",\n        \"ulan ude\",\n        \"vladikavkaz\",\n        \"vladimir\",\n        \"vladivostok\",\n        \"volgograd\",\n        \"vologda\",\n        \"vorkuta\",\n        \"voronezh\",\n        \"vyatka\",\n        \"yakutsk\",\n        \"yaroslavl\",\n        \"yuzhno-sakhalinsk\",\n        \"kigali\",\n        \"abha\",\n        \"jeddah\",\n        \"mecca\",\n        \"medina\",\n        \"riyadh\",\n        \"sakakah\",\n        \"tabuk\",\n        \"bisho\",\n        \"bloemfontein\",\n        \"cape town\",\n        \"durban\",\n        \"johannesburg\",\n        \"kimberley\",\n        \"mmabatho (mafikeng)\",\n        \"nelspruit\",\n        \"pietermaritzburg (ulundi)\",\n        \"pietersburg (polokwane)\",\n        \"port elizabeth\",\n        \"pretoria\",\n        \"richards bay\",\n        \"dakar\",\n        \"kolda\",\n        \"thies\",\n        \"ziguinchor\",\n        \"ljubljana\",\n        \"freetown\",\n        \"singapore\",\n        \"barcelona\",\n        \"bilbao\",\n        \"ceuta\",\n        \"logrono\",\n        \"madrid\",\n        \"melilla\",\n        \"murcia\",\n        \"oviedo\",\n        \"palma de mallorca\",\n        \"pamplona\",\n        \"santa cruz de tenerife\",\n        \"santander\",\n        \"santiago de compostela\",\n        \"seville\",\n        \"toledo\",\n        \"valencia\",\n        \"valladolid\",\n        \"zaragoza\",\n        \"el fasher\",\n        \"el obeid\",\n        \"khartoum\",\n        \"malakal\",\n        \"omdurman\",\n        \"port sudan\",\n        \"wau\",\n        \"gavle\",\n        \"goteborg\",\n        \"halmstad\",\n        \"jonkoping\",\n        \"karlstad\",\n        \"linkoping\",\n        \"malmo\",\n        \"orebro\",\n        \"stockholm\",\n        \"umea\",\n        \"uppsala\",\n        \"vasteras\",\n        \"vaxjo\",\n        \"aleppo\",\n        \"damascus\",\n        \"dayr az zawr\",\n        \"hamah\",\n        \"homs\",\n        \"tartus\",\n        \"basel\",\n        \"geneva\",\n        \"saint gallen\",\n        \"zurich\",\n        \"bangkok\",\n        \"chang rai\",\n        \"chanthaburi\",\n        \"chiang mai\",\n        \"chon buri\",\n        \"chumphon\",\n        \"kanchanaburi\",\n        \"khon kaen\",\n        \"lampang\",\n        \"nakhon ratchasima\",\n        \"nakhon si thammarat\",\n        \"nong khai\",\n        \"phetchabun\",\n        \"phitsanulok\",\n        \"phuket\",\n        \"sakon nakhon\",\n        \"samut prakan\",\n        \"supham buri\",\n        \"surat thani\",\n        \"trang\",\n        \"ubon ratchathani\",\n        \"udon thani\",\n        \"uttaradit\",\n        \"dushanbe\",\n        \"kulob\",\n        \"leninobod\",\n        \"qurghonteppa\",\n        \"lome\",\n        \"bizerte\",\n        \"gabes\",\n        \"gafsa\",\n        \"jendouba\",\n        \"kairouan\",\n        \"sfax\",\n        \"tunis\",\n        \"adiyaman\",\n        \"agri\",\n        \"aintab\",\n        \"ankara\",\n        \"antalya\",\n        \"aydin\",\n        \"balikesir\",\n        \"bingol\",\n        \"bolu\",\n        \"burdur\",\n        \"bursa\",\n        \"canakkale\",\n        \"cankiri\",\n        \"corum\",\n        \"denizli\",\n        \"diyarbakir\",\n        \"edirne\",\n        \"elazig\",\n        \"erzincan\",\n        \"erzurum\",\n        \"giresun\",\n        \"hakkari\",\n        \"isparta\",\n        \"istanbul\",\n        \"izmir\",\n        \"kahramanmaras\",\n        \"kars\",\n        \"kastamonu\",\n        \"kirsehir\",\n        \"konya\",\n        \"kutahya\",\n        \"malatya\",\n        \"mersin\",\n        \"mus\",\n        \"nevsehir\",\n        \"nigde\",\n        \"rize\",\n        \"sakarya\",\n        \"samsun\",\n        \"siirt\",\n        \"sivas\",\n        \"tekirdag\",\n        \"tokat\",\n        \"usak\",\n        \"van\",\n        \"yozgat\",\n        \"zonguldak\",\n        \"ashgabat\",\n        \"mary\",\n        \"turkmenbashi\",\n        \"arusha\",\n        \"bukoba\",\n        \"dar es salaam\",\n        \"dodoma\",\n        \"iringa\",\n        \"moshi\",\n        \"mtwara\",\n        \"musoma\",\n        \"mwanza\",\n        \"songea\",\n        \"tabora\",\n        \"zanzibar\",\n        \"arua\",\n        \"gulu\",\n        \"jinja\",\n        \"belfast\",\n        \"birmingham\",\n        \"dundee\",\n        \"edinburgh\",\n        \"glasgow\",\n        \"leeds\",\n        \"liverpool\",\n        \"london\",\n        \"manchester\",\n        \"sheffield\",\n        \"southampton\",\n        \"cherkasy\",\n        \"chernihiv\",\n        \"chernivtsi\",\n        \"dnipropetrovs'k\",\n        \"donets'k\",\n        \"ivano-frankivs'k\",\n        \"kharkiv\",\n        \"kherson\",\n        \"khmel'nyts'kyz\",\n        \"kirovohrad\",\n        \"kovel'\",\n        \"kyiv\",\n        \"l'viv\",\n        \"luhans'k\",\n        \"mykolayiv\",\n        \"odesa\",\n        \"poltava\",\n        \"rivne\",\n        \"simferopol'\",\n        \"sumy\",\n        \"ternopil'\",\n        \"uzhhorod\",\n        \"vinnytsya\",\n        \"zaporiyhzhya\",\n        \"zhytomyra\",\n        \"washington d.c.\",\n        \"alexander\",\n        \"anniston\",\n        \"auburn\",\n        \"cullman\",\n        \"dothan\",\n        \"enterprise\",\n        \"eufaula\",\n        \"florence\",\n        \"fort payne\",\n        \"gadsden\",\n        \"huntsville\",\n        \"jasper\",\n        \"mobile\",\n        \"montgomery\",\n        \"selma\",\n        \"talladega\",\n        \"troy\",\n        \"tuscaloosa\",\n        \"anchorage\",\n        \"fairbanks\",\n        \"juneau\",\n        \"nome\",\n        \"seward\",\n        \"bullhead\",\n        \"casa grande\",\n        \"douglas\",\n        \"flagstaff\",\n        \"green valley\",\n        \"kingman\",\n        \"lake havasu\",\n        \"mesa\",\n        \"nogales\",\n        \"payson\",\n        \"phoenix\",\n        \"prescott\",\n        \"sierra vista\",\n        \"tucson\",\n        \"yuma\",\n        \"arkadelphia\",\n        \"blytheville\",\n        \"camden\",\n        \"conway\",\n        \"el dorado\",\n        \"fayetteville\",\n        \"forrest\",\n        \"fort smith\",\n        \"harrison\",\n        \"hope\",\n        \"hot springs\",\n        \"jonesboro\",\n        \"little rock\",\n        \"magnolia\",\n        \"mountain home\",\n        \"paragould\",\n        \"pine bluff\",\n        \"russellville\",\n        \"searcy\",\n        \"siloam springs\",\n        \"anaheim\",\n        \"bakersfield\",\n        \"barstow\",\n        \"blythe\",\n        \"chico\",\n        \"clearlake\",\n        \"coalinga\",\n        \"el centro\",\n        \"eureka\",\n        \"fresno\",\n        \"grass valley\",\n        \"long beach\",\n        \"los angeles\",\n        \"merced\",\n        \"modesto\",\n        \"monterey\",\n        \"napa\",\n        \"oakland\",\n        \"oceanside\",\n        \"oxnard\",\n        \"palm springs\",\n        \"red bluff\",\n        \"redding\",\n        \"ridgecrest\",\n        \"riverside\",\n        \"rosamond\",\n        \"sacramento\",\n        \"salinas\",\n        \"san bernardino\",\n        \"san diego\",\n        \"san francisco\",\n        \"san jose\",\n        \"san luis obispo\",\n        \"santa ana\",\n        \"santa barbara\",\n        \"santa clarita\",\n        \"santa cruz\",\n        \"santa maria\",\n        \"santa rosa\",\n        \"simi valley\",\n        \"soledad\",\n        \"stockton\",\n        \"susanville\",\n        \"ukiah\",\n        \"vallejo\",\n        \"visalia\",\n        \"yuba\",\n        \"yucca valley\",\n        \"boulder\",\n        \"canon\",\n        \"colorado springs\",\n        \"denver\",\n        \"durango\",\n        \"fort collins\",\n        \"fort morgan\",\n        \"grand junction\",\n        \"montrose\",\n        \"pueblo\",\n        \"sterling\",\n        \"bridgeport\",\n        \"danbury\",\n        \"hartford\",\n        \"new haven\",\n        \"new london\",\n        \"norwalk\",\n        \"norwich\",\n        \"stamford\",\n        \"torrington\",\n        \"waterbury\",\n        \"willimantic\",\n        \"dover\",\n        \"newark\",\n        \"belle glade\",\n        \"boca raton\",\n        \"boynton beach\",\n        \"bradenton\",\n        \"cape coral\",\n        \"cocoa\",\n        \"coral springs\",\n        \"crestview\",\n        \"daytona beach\",\n        \"deltona\",\n        \"destin\",\n        \"fort lauderdale\",\n        \"fort myers\",\n        \"fort walton beach\",\n        \"gainesville\",\n        \"homosassa springs\",\n        \"immokalee\",\n        \"jacksonville\",\n        \"jupiter\",\n        \"key largo\",\n        \"key west\",\n        \"kissimmee\",\n        \"marathon\",\n        \"melbourne\",\n        \"miami\",\n        \"naples\",\n        \"ocala\",\n        \"orlando\",\n        \"palatka\",\n        \"palm coast\",\n        \"panama\",\n        \"pensacola\",\n        \"pompano beach\",\n        \"port charlotte\",\n        \"port st. lucie\",\n        \"sarasota\",\n        \"spring hill\",\n        \"st. augustine\",\n        \"st. petersburg\",\n        \"tallahassee\",\n        \"tampa\",\n        \"titusville\",\n        \"west palm beach\",\n        \"albany\",\n        \"americus\",\n        \"athens\",\n        \"atlanta\",\n        \"augusta\",\n        \"bainbridge\",\n        \"brunswick\",\n        \"carrollton\",\n        \"columbus\",\n        \"dalton\",\n        \"dublin\",\n        \"fort benning south\",\n        \"griffin\",\n        \"hinesville\",\n        \"lagrange\",\n        \"macon\",\n        \"milledgeville\",\n        \"peachtree\",\n        \"rome\",\n        \"savannah\",\n        \"st. marys\",\n        \"statesboro\",\n        \"thomasville\",\n        \"tifton\",\n        \"valdosta\",\n        \"vidalia\",\n        \"waycross\",\n        \"hilo\",\n        \"honolulu\",\n        \"kahului\",\n        \"boise\",\n        \"coeur d'alene\",\n        \"idaho falls\",\n        \"lewiston\",\n        \"moscow\",\n        \"nampa\",\n        \"pocatello\",\n        \"twin falls\",\n        \"aurora\",\n        \"bloomington\",\n        \"carbondale\",\n        \"champaign\",\n        \"charleston\",\n        \"chicago\",\n        \"crystal lake\",\n        \"danville\",\n        \"dekalb\",\n        \"decatur\",\n        \"dixon\",\n        \"effingham\",\n        \"elgin\",\n        \"freeport\",\n        \"galesburg\",\n        \"joliet\",\n        \"kankakee\",\n        \"kewanee\",\n        \"lincoln\",\n        \"macomb\",\n        \"mount vernon\",\n        \"naperville\",\n        \"ottawa\",\n        \"peoria\",\n        \"pontiac\",\n        \"quincy\",\n        \"rockford\",\n        \"springfield\",\n        \"streator\",\n        \"waukegan\",\n        \"evansville\",\n        \"fort wayne\",\n        \"indianapolis\",\n        \"kokomo\",\n        \"lafayette\",\n        \"madison\",\n        \"michigan\",\n        \"muncie\",\n        \"richmond\",\n        \"shelbyville\",\n        \"south bend\",\n        \"terre haute\",\n        \"vincennes\",\n        \"ames\",\n        \"burlington\",\n        \"carroll\",\n        \"cedar falls\",\n        \"cedar rapids\",\n        \"clinton\",\n        \"davenport\",\n        \"des moines\",\n        \"dubuque\",\n        \"fort dodge\",\n        \"iowa\",\n        \"keokuk\",\n        \"marshalltown\",\n        \"mason\",\n        \"oskaloosa\",\n        \"ottumwa\",\n        \"sioux\",\n        \"spencer\",\n        \"storm lake\",\n        \"waterloo\",\n        \"coffeyville\",\n        \"dodge\",\n        \"emporia\",\n        \"garden\",\n        \"great bend\",\n        \"hays\",\n        \"hutchinson\",\n        \"lawrence\",\n        \"leavenworth\",\n        \"liberal\",\n        \"manhattan\",\n        \"pittsburg\",\n        \"salina\",\n        \"topeka\",\n        \"wichita\",\n        \"winfield\",\n        \"bowling green\",\n        \"campbellsville\",\n        \"elizabethtown\",\n        \"fort knox\",\n        \"frankfort\",\n        \"hopkinsville\",\n        \"lexington\",\n        \"louisville\",\n        \"madisonville\",\n        \"middlesborough\",\n        \"murray\",\n        \"owensboro\",\n        \"paducah\",\n        \"somerset\",\n        \"alexandria\",\n        \"bastrop\",\n        \"baton rouge\",\n        \"bogalusa\",\n        \"fort polk south\",\n        \"hammond\",\n        \"houma\",\n        \"jennings\",\n        \"lake charles\",\n        \"minden\",\n        \"monroe\",\n        \"morgan\",\n        \"natchitoches\",\n        \"new iberia\",\n        \"new orleans\",\n        \"opelousas\",\n        \"ruston\",\n        \"shreveport\",\n        \"thibodaux\",\n        \"bangor\",\n        \"portland\",\n        \"waterville\",\n        \"annapolis\",\n        \"baltimore\",\n        \"cambridge\",\n        \"cumberland\",\n        \"easton\",\n        \"frederick\",\n        \"hagerstown\",\n        \"ocean pines\",\n        \"salisbury\",\n        \"westminster\",\n        \"barnstable town\",\n        \"boston\",\n        \"brockton\",\n        \"fall river\",\n        \"gloucester\",\n        \"greenfield\",\n        \"leominster\",\n        \"lowell\",\n        \"new bedford\",\n        \"north adams\",\n        \"northampton\",\n        \"pittsfield\",\n        \"worcester\",\n        \"alpena\",\n        \"ann arbor\",\n        \"benton harbor\",\n        \"big rapids\",\n        \"cadillac\",\n        \"detroit\",\n        \"escanaba\",\n        \"flint\",\n        \"grand rapids\",\n        \"holland\",\n        \"jackson\",\n        \"kalamazoo\",\n        \"lansing\",\n        \"marquette\",\n        \"midland\",\n        \"mount pleasant\",\n        \"muskegon\",\n        \"owosso\",\n        \"port huron\",\n        \"saginaw\",\n        \"sault ste. marie\",\n        \"sturgis\",\n        \"traverse\",\n        \"austin\",\n        \"bemidji\",\n        \"brainerd\",\n        \"buffalo\",\n        \"duluth\",\n        \"fairmont\",\n        \"faribault\",\n        \"fergus falls\",\n        \"hibbing\",\n        \"mankato\",\n        \"marshall\",\n        \"minneapolis\",\n        \"new ulm\",\n        \"owatonna\",\n        \"rochester\",\n        \"saint paul\",\n        \"st. cloud\",\n        \"willmar\",\n        \"worthington\",\n        \"biloxi\",\n        \"clarksdale\",\n        \"cleveland\",\n        \"corinth\",\n        \"greenville\",\n        \"greenwood\",\n        \"grenada\",\n        \"gulfport\",\n        \"hattiesburg\",\n        \"laurel\",\n        \"mccomb\",\n        \"meridian\",\n        \"natchez\",\n        \"oxford\",\n        \"picayune\",\n        \"tupelo\",\n        \"vicksburg\",\n        \"yazoo\",\n        \"cape girardeau\",\n        \"columbia\",\n        \"excelsior springs\",\n        \"farmington\",\n        \"fort leonard wood\",\n        \"jefferson\",\n        \"joplin\",\n        \"kansas\",\n        \"kennett\",\n        \"kirksville\",\n        \"lebanon\",\n        \"maryville\",\n        \"moberly\",\n        \"poplar bluff\",\n        \"rolla\",\n        \"sedalia\",\n        \"sikeston\",\n        \"st. joseph\",\n        \"st. louis\",\n        \"warrensburg\",\n        \"washington\",\n        \"west plains\",\n        \"billings\",\n        \"bozeman\",\n        \"butte\",\n        \"great falls\",\n        \"helena\",\n        \"kalispell\",\n        \"missoula\",\n        \"beatrice\",\n        \"fremont\",\n        \"grand island\",\n        \"hastings\",\n        \"kearney\",\n        \"norfolk\",\n        \"north platte\",\n        \"omaha\",\n        \"scottsbluff\",\n        \"boulder\",\n        \"carson\",\n        \"elko\",\n        \"las vegas\",\n        \"pahrump\",\n        \"reno\",\n        \"berlin\",\n        \"claremont\",\n        \"concord\",\n        \"keene\",\n        \"laconia\",\n        \"nashua\",\n        \"portsmouth\",\n        \"jersey\",\n        \"lakewood\",\n        \"pleasantville\",\n        \"toms river\",\n        \"trenton\",\n        \"vineland\",\n        \"alamogordo\",\n        \"albuquerque\",\n        \"carlsbad\",\n        \"clovis\",\n        \"deming\",\n        \"gallup\",\n        \"las cruces\",\n        \"roswell\",\n        \"santa fe\",\n        \"silver\",\n        \"amsterdam\",\n        \"binghamton\",\n        \"brentwood\",\n        \"brooklyn\",\n        \"commack\",\n        \"coram\",\n        \"elmira\",\n        \"hempstead\",\n        \"huntington station\",\n        \"ithaca\",\n        \"jamestown\",\n        \"kingston\",\n        \"levittown\",\n        \"massena\",\n        \"middletown\",\n        \"new\",\n        \"new york\",\n        \"niagara falls\",\n        \"ogdensburg\",\n        \"oneonta\",\n        \"oswego\",\n        \"plattsburgh\",\n        \"poughkeepsie\",\n        \"saratoga springs\",\n        \"syracuse\",\n        \"utica\",\n        \"watertown\",\n        \"yonkers\",\n        \"asheboro\",\n        \"asheville\",\n        \"boone\",\n        \"charlotte\",\n        \"durham\",\n        \"elizabeth\",\n        \"fort bragg\",\n        \"gastonia\",\n        \"greensboro\",\n        \"hendersonville\",\n        \"hickory\",\n        \"new bern\",\n        \"raleigh\",\n        \"roanoke rapids\",\n        \"rocky mount\",\n        \"statesville\",\n        \"wilmington\",\n        \"winston-salem\",\n        \"bismarck\",\n        \"dickinson\",\n        \"fargo\",\n        \"grand forks\",\n        \"minot\",\n        \"williston\",\n        \"akron\",\n        \"ashland\",\n        \"ashtabula\",\n        \"canton\",\n        \"chillicothe\",\n        \"cincinnati\",\n        \"dayton\",\n        \"defiance\",\n        \"delaware\",\n        \"lima\",\n        \"mansfield\",\n        \"marion\",\n        \"mentor\",\n        \"new philadelphia\",\n        \"salem\",\n        \"sandusky\",\n        \"steubenville\",\n        \"toledo\",\n        \"urbana\",\n        \"wooster\",\n        \"youngstown\",\n        \"zanesville\",\n        \"ada\",\n        \"altus\",\n        \"ardmore\",\n        \"bartlesville\",\n        \"chickasha\",\n        \"durant\",\n        \"elk\",\n        \"enid\",\n        \"guymon\",\n        \"lawton\",\n        \"mcalester\",\n        \"muskogee\",\n        \"oklahoma\",\n        \"okmulgee\",\n        \"ponca\",\n        \"shawnee\",\n        \"stillwater\",\n        \"tahlequah\",\n        \"tulsa\",\n        \"woodward\",\n        \"bend\",\n        \"coos bay\",\n        \"corvallis\",\n        \"eugene\",\n        \"grants pass\",\n        \"hermiston\",\n        \"hillsboro\",\n        \"klamath falls\",\n        \"la grande\",\n        \"medford\",\n        \"ontario\",\n        \"pendleton\",\n        \"roseburg\",\n        \"st. helens\",\n        \"allentown\",\n        \"altoona\",\n        \"bethlehem\",\n        \"bloomsburg\",\n        \"chambersburg\",\n        \"chester\",\n        \"erie\",\n        \"hanover\",\n        \"harrisburg\",\n        \"hazleton\",\n        \"johnstown\",\n        \"lancaster\",\n        \"meadville\",\n        \"philadelphia\",\n        \"pittsburgh\",\n        \"reading\",\n        \"scranton\",\n        \"state college\",\n        \"uniontown\",\n        \"wilkes-barre\",\n        \"williamsport\",\n        \"york\",\n        \"newport\",\n        \"providence\",\n        \"westerly\",\n        \"clemson\",\n        \"hilton head island\",\n        \"myrtle beach\",\n        \"orangeburg\",\n        \"rock hill\",\n        \"spartanburg\",\n        \"sumter\",\n        \"aberdeen\",\n        \"brookings\",\n        \"huron\",\n        \"mitchell\",\n        \"pierre\",\n        \"rapid\",\n        \"sioux falls\",\n        \"yankton\",\n        \"bristol\",\n        \"chattanooga\",\n        \"clarksville\",\n        \"cookeville\",\n        \"dyersburg\",\n        \"johnson\",\n        \"kingsport\",\n        \"knoxville\",\n        \"mcminnville\",\n        \"memphis\",\n        \"morristown\",\n        \"murfreesboro\",\n        \"nashville\",\n        \"union\",\n        \"abilene\",\n        \"amarillo\",\n        \"arlington\",\n        \"bay\",\n        \"beaumont\",\n        \"beeville\",\n        \"brenham\",\n        \"brownsville\",\n        \"bryan\",\n        \"college station\",\n        \"conroe\",\n        \"corpus christi\",\n        \"corsicana\",\n        \"dallas\",\n        \"del rio\",\n        \"denton\",\n        \"eagle pass\",\n        \"el campo\",\n        \"el paso\",\n        \"fort hood\",\n        \"fort worth\",\n        \"galveston\",\n        \"gatesville\",\n        \"harlingen\",\n        \"henderson\",\n        \"houston\",\n        \"irving\",\n        \"katy\",\n        \"kerrville\",\n        \"killeen\",\n        \"kingsville\",\n        \"lake jackson\",\n        \"laredo\",\n        \"longview\",\n        \"lubbock\",\n        \"lufkin\",\n        \"mcallen\",\n        \"mineral wells\",\n        \"nacogdoches\",\n        \"new braunfels\",\n        \"odessa\",\n        \"palestine\",\n        \"paris\",\n        \"plano\",\n        \"port arthur\",\n        \"rio grande\",\n        \"round rock\",\n        \"san antonio\",\n        \"san marcos\",\n        \"sherman\",\n        \"stephenville\",\n        \"sulphur springs\",\n        \"texarkana\",\n        \"the woodlands\",\n        \"tyler\",\n        \"uvalde\",\n        \"vernon\",\n        \"victoria\",\n        \"waco\",\n        \"waxahachie\",\n        \"wichita falls\",\n        \"brigham\",\n        \"cedar\",\n        \"logan\",\n        \"ogden\",\n        \"provo\",\n        \"salt lake\",\n        \"st. george\",\n        \"montpelier\",\n        \"rutland\",\n        \"blacksburg\",\n        \"centreville\",\n        \"charlottesville\",\n        \"chesapeake\",\n        \"fredericksburg\",\n        \"hampton\",\n        \"harrisonburg\",\n        \"leesburg\",\n        \"lynchburg\",\n        \"newport news\",\n        \"roanoke\",\n        \"virginia beach\",\n        \"winchester\",\n        \"anacortes\",\n        \"bellevue\",\n        \"bellingham\",\n        \"bremerton\",\n        \"centralia\",\n        \"ellensburg\",\n        \"everett\",\n        \"federal way\",\n        \"kennewick\",\n        \"moses lake\",\n        \"oak harbor\",\n        \"olympia\",\n        \"port angeles\",\n        \"pullman\",\n        \"redmond\",\n        \"seattle\",\n        \"spokane\",\n        \"sunnyside\",\n        \"tacoma\",\n        \"vancouver\",\n        \"walla walla\",\n        \"wenatchee\",\n        \"yakima\",\n        \"beckley\",\n        \"bluefield\",\n        \"huntington\",\n        \"martinsburg\",\n        \"morgantown\",\n        \"parkersburg\",\n        \"wheeling\",\n        \"eau claire\",\n        \"green bay\",\n        \"janesville\",\n        \"kenosha\",\n        \"la crosse\",\n        \"manitowoc\",\n        \"marinette\",\n        \"milwaukee\",\n        \"oshkosh\",\n        \"racine\",\n        \"river falls\",\n        \"sheboygan\",\n        \"wausau\",\n        \"casper\",\n        \"cheyenne\",\n        \"evanston\",\n        \"gillette\",\n        \"laramie\",\n        \"rock springs\",\n        \"sheridan\",\n        \"bobo dioulasso\",\n        \"ouagadougou\",\n        \"ouahigouya\",\n        \"melo\",\n        \"montevideo\",\n        \"paysandu\",\n        \"rivera\",\n        \"salto\",\n        \"tacuarembo\",\n        \"andizhan\",\n        \"bukhara\",\n        \"dzhizak\",\n        \"fergana\",\n        \"gulistan\",\n        \"karshi\",\n        \"namangan\",\n        \"navoi\",\n        \"nukus\",\n        \"samarkand\",\n        \"tashkent\",\n        \"termez\",\n        \"urgench\",\n        \"barcelona\",\n        \"barquisimeto\",\n        \"caracas\",\n        \"ciudad bolivar\",\n        \"coro\",\n        \"cumana\",\n        \"guanare\",\n        \"maracaibo\",\n        \"maturin\",\n        \"merida\",\n        \"puerto ayacucho\",\n        \"puerto la cruz\",\n        \"san carlos\",\n        \"san cristobal\",\n        \"san felipe\",\n        \"san juan de los morros\",\n        \"valencia\",\n        \"bien hoa\",\n        \"buon me thuot\",\n        \"can tho\",\n        \"da lat\",\n        \"da nang\",\n        \"haiphong\",\n        \"hanoi\",\n        \"ho chi minh\",\n        \"hue\",\n        \"my tho\",\n        \"nha trang\",\n        \"phan thiet\",\n        \"play cu\",\n        \"qui nhon\",\n        \"soc trang\",\n        \"tan an\",\n        \"thanh hoa\",\n        \"truc giang\",\n        \"tuy hoa\",\n        \"vinh long\",\n        \"walvis bay\",\n        \"windhoek\",\n        \"manzini\",\n        \"mbabane\",\n        \"chipata\",\n        \"kabwe\",\n        \"kasama\",\n        \"livingstone\",\n        \"lusaka\",\n        \"mongu\",\n        \"ndola\",\n        \"bulawayo\",\n        \"gweru\",\n        \"harare\",\n        \"masvingo\"\n      ]\n    },\n    {\n      \"datamart_id\": 1230004,\n      \"name\": \"TAVG\",\n      \"description\": \"Average temperature (tenths of degrees C)[Note that TAVG from source 'S' corresponds to an average for the period ending at 2400 UTC rather than local midnight]\",\n      \"semantic_type\": [\n        \"http://schema.org/Float\"\n      ]\n    }\n  ]\n}\n"
     ]
    }
   ],
   "source": [
    "# Take a look at some metadata\n",
    "print(json.dumps(metadata, indent=2))"
   ]
  },
  {
   "cell_type": "markdown",
   "metadata": {},
   "source": [
    "### Materialize dataset with constrains"
   ]
  },
  {
   "cell_type": "code",
   "execution_count": 8,
   "metadata": {},
   "outputs": [],
   "source": [
    "# Get me subset of the dataset only related to my cities in old_df and time range from 2018-09-23 to 2018-09-30\n",
    "new_df = augment.get_dataset(metadata=metadata, variables=None, constrains={\n",
    "            \"locations\": old_df.loc[:, 'city'].unique().tolist(),\n",
    "            \"date_range\": {\n",
    "                \"start\": \"2018-09-23T00:00:00\",\n",
    "                \"end\": \"2018-09-30T00:00:00\"\n",
    "            }\n",
    "        })"
   ]
  },
  {
   "cell_type": "code",
   "execution_count": 9,
   "metadata": {},
   "outputs": [
    {
     "name": "stdout",
     "output_type": "stream",
     "text": [
      "                    date          stationid         city  TAVG\n106  2018-09-23T00:00:00  GHCND:USW00094789     New york   173\n14   2018-09-24T00:00:00  GHCND:USR0000CBEV  los angeles   186\n22   2018-09-24T00:00:00  GHCND:USR0000CSFD  los angeles   204\n39   2018-09-26T00:00:00  GHCND:USR0000CACT  los angeles   248\n134  2018-09-26T00:00:00  GHCND:CHM00058367     Shanghai   235\n25   2018-09-24T00:00:00  GHCND:USW00023174  los angeles   196\n40   2018-09-26T00:00:00  GHCND:USR0000CBEV  los angeles   204\n8    2018-09-23T00:00:00  GHCND:USR0000CMIL  los angeles   212\n101  2018-09-30T00:00:00  GHCND:USR0000CWHH  los angeles   224\n1    2018-09-23T00:00:00  GHCND:USR0000CBEV  los angeles   206\n"
     ]
    }
   ],
   "source": [
    "print(new_df.iloc[random.sample(range(1, new_df.shape[0]), 10), :])"
   ]
  },
  {
   "cell_type": "markdown",
   "metadata": {},
   "source": [
    "### Join\n",
    "There are many ways of join between original dataframe and new dataframe.\n",
    "Simplest solution if right join which will produce lots of rows for same city."
   ]
  },
  {
   "cell_type": "code",
   "execution_count": 20,
   "metadata": {},
   "outputs": [
    {
     "name": "stdout",
     "output_type": "stream",
     "text": [
      "            city country                 date          stationid   TAVG\n0    los angeles      US  2018-09-23T00:00:00  GHCND:USR0000CACT  233.0\n1    los angeles      US  2018-09-23T00:00:00  GHCND:USR0000CBEV  206.0\n2    los angeles      US  2018-09-23T00:00:00  GHCND:USR0000CCHB  228.0\n3    los angeles      US  2018-09-23T00:00:00  GHCND:USR0000CCHI  218.0\n4    los angeles      US  2018-09-23T00:00:00  GHCND:USR0000CCLE  237.0\n5    los angeles      US  2018-09-23T00:00:00  GHCND:USR0000CCP9  224.0\n6    los angeles      US  2018-09-23T00:00:00  GHCND:USR0000CLTU  215.0\n7    los angeles      US  2018-09-23T00:00:00  GHCND:USR0000CMAL  197.0\n8    los angeles      US  2018-09-23T00:00:00  GHCND:USR0000CMIL  212.0\n9    los angeles      US  2018-09-23T00:00:00  GHCND:USR0000CSFD  222.0\n10   los angeles      US  2018-09-23T00:00:00  GHCND:USR0000CWHH  206.0\n11   los angeles      US  2018-09-23T00:00:00  GHCND:USW00023129  214.0\n12   los angeles      US  2018-09-23T00:00:00  GHCND:USW00023174  201.0\n13   los angeles      US  2018-09-24T00:00:00  GHCND:USR0000CACT  206.0\n14   los angeles      US  2018-09-24T00:00:00  GHCND:USR0000CBEV  186.0\n15   los angeles      US  2018-09-24T00:00:00  GHCND:USR0000CCHB  185.0\n16   los angeles      US  2018-09-24T00:00:00  GHCND:USR0000CCHI  208.0\n17   los angeles      US  2018-09-24T00:00:00  GHCND:USR0000CCLE  217.0\n18   los angeles      US  2018-09-24T00:00:00  GHCND:USR0000CCP9  207.0\n19   los angeles      US  2018-09-24T00:00:00  GHCND:USR0000CLTU  181.0\n20   los angeles      US  2018-09-24T00:00:00  GHCND:USR0000CMAL  163.0\n21   los angeles      US  2018-09-24T00:00:00  GHCND:USR0000CMIL  204.0\n22   los angeles      US  2018-09-24T00:00:00  GHCND:USR0000CSFD  204.0\n23   los angeles      US  2018-09-24T00:00:00  GHCND:USR0000CWHH  187.0\n24   los angeles      US  2018-09-24T00:00:00  GHCND:USW00023129  203.0\n25   los angeles      US  2018-09-24T00:00:00  GHCND:USW00023174  196.0\n26   los angeles      US  2018-09-25T00:00:00  GHCND:USR0000CACT  224.0\n27   los angeles      US  2018-09-25T00:00:00  GHCND:USR0000CBEV  176.0\n28   los angeles      US  2018-09-25T00:00:00  GHCND:USR0000CCHB  182.0\n29   los angeles      US  2018-09-25T00:00:00  GHCND:USR0000CCHI  229.0\n..           ...     ...                  ...                ...    ...\n122     New york      US  2018-09-29T00:00:00  GHCND:USW00014732  189.0\n123     New york      US  2018-09-29T00:00:00  GHCND:USW00014734  176.0\n124     New york      US  2018-09-29T00:00:00  GHCND:USW00094789  181.0\n125     New york      US  2018-09-30T00:00:00  GHCND:USW00014732  184.0\n126     New york      US  2018-09-30T00:00:00  GHCND:USW00014734  167.0\n127     New york      US  2018-09-30T00:00:00  GHCND:USW00094789  172.0\n128     Shanghai   China  2018-09-23T00:00:00  GHCND:CHM00058362  253.0\n129     Shanghai   China  2018-09-23T00:00:00  GHCND:CHM00058367  256.0\n130     Shanghai   China  2018-09-24T00:00:00  GHCND:CHM00058367  210.0\n131     Shanghai   China  2018-09-25T00:00:00  GHCND:CHM00058362  232.0\n132     Shanghai   China  2018-09-25T00:00:00  GHCND:CHM00058367  234.0\n133     Shanghai   China  2018-09-26T00:00:00  GHCND:CHM00058362  234.0\n134     Shanghai   China  2018-09-26T00:00:00  GHCND:CHM00058367  235.0\n135     Shanghai   China  2018-09-27T00:00:00  GHCND:CHM00058362  234.0\n136     Shanghai   China  2018-09-27T00:00:00  GHCND:CHM00058367  238.0\n137     Shanghai   China  2018-09-28T00:00:00  GHCND:CHM00058362  239.0\n138     Shanghai   China  2018-09-28T00:00:00  GHCND:CHM00058367  239.0\n139     Shanghai   China  2018-09-29T00:00:00  GHCND:CHM00058362  234.0\n140     Shanghai   China  2018-09-29T00:00:00  GHCND:CHM00058367  231.0\n141     Shanghai   China  2018-09-30T00:00:00  GHCND:CHM00058362  228.0\n142     Shanghai   China  2018-09-30T00:00:00  GHCND:CHM00058367  236.0\n143        SAFDA    fwfb                  NaN                NaN    NaN\n144   manchester      UK  2018-09-23T00:00:00  GHCND:USW00014745  113.0\n145   manchester      UK  2018-09-24T00:00:00  GHCND:USW00014745  103.0\n146   manchester      UK  2018-09-25T00:00:00  GHCND:USW00014745   92.0\n147   manchester      UK  2018-09-26T00:00:00  GHCND:USW00014745  198.0\n148   manchester      UK  2018-09-27T00:00:00  GHCND:USW00014745  187.0\n149   manchester      UK  2018-09-28T00:00:00  GHCND:USW00014745  144.0\n150   manchester      UK  2018-09-29T00:00:00  GHCND:USW00014745  128.0\n151   manchester      UK  2018-09-30T00:00:00  GHCND:USW00014745  107.0\n\n[152 rows x 5 columns]\n"
     ]
    }
   ],
   "source": [
    "df = pd.merge(left=old_df, right=new_df, left_on='city', right_on='city', how='outer')\n",
    "print(df)"
   ]
  },
  {
   "cell_type": "markdown",
   "metadata": {},
   "source": [
    "#### Aggregation\n",
    "Join also can be performed based on aggregation."
   ]
  },
  {
   "cell_type": "code",
   "execution_count": 22,
   "metadata": {},
   "outputs": [
    {
     "name": "stdout",
     "output_type": "stream",
     "text": [
      "          city        TAVG\n0     New york  188.416667\n1     Shanghai  235.533333\n2  los angeles  212.057692\n3   manchester  134.000000\n"
     ]
    }
   ],
   "source": [
    "# Aggregate on city\n",
    "new_df_aggregated = new_df.groupby([\"city\"], as_index=False)[\"TAVG\"].mean()\n",
    "print(new_df_aggregated)"
   ]
  },
  {
   "cell_type": "code",
   "execution_count": 23,
   "metadata": {},
   "outputs": [
    {
     "name": "stdout",
     "output_type": "stream",
     "text": [
      "          city country        TAVG\n0  los angeles      US  212.057692\n1     New york      US  188.416667\n2     Shanghai   China  235.533333\n3        SAFDA    fwfb         NaN\n4   manchester      UK  134.000000\n"
     ]
    }
   ],
   "source": [
    "df = pd.merge(left=old_df, right=new_df_aggregated, left_on='city', right_on='city', how='outer')\n",
    "print(df)"
   ]
  },
  {
   "cell_type": "code",
   "execution_count": 24,
   "metadata": {},
   "outputs": [
    {
     "name": "stdout",
     "output_type": "stream",
     "text": [
      "           city                 date        TAVG\n0      New york  2018-09-23T00:00:00  174.000000\n1      New york  2018-09-24T00:00:00  176.333333\n2      New york  2018-09-25T00:00:00  184.666667\n3      New york  2018-09-26T00:00:00  239.333333\n4      New york  2018-09-27T00:00:00  206.666667\n5      New york  2018-09-28T00:00:00  170.000000\n6      New york  2018-09-29T00:00:00  182.000000\n7      New york  2018-09-30T00:00:00  174.333333\n8      Shanghai  2018-09-23T00:00:00  254.500000\n9      Shanghai  2018-09-24T00:00:00  210.000000\n10     Shanghai  2018-09-25T00:00:00  233.000000\n11     Shanghai  2018-09-26T00:00:00  234.500000\n12     Shanghai  2018-09-27T00:00:00  236.000000\n13     Shanghai  2018-09-28T00:00:00  239.000000\n14     Shanghai  2018-09-29T00:00:00  232.500000\n15     Shanghai  2018-09-30T00:00:00  232.000000\n16  los angeles  2018-09-23T00:00:00  216.384615\n17  los angeles  2018-09-24T00:00:00  195.923077\n18  los angeles  2018-09-25T00:00:00  202.923077\n19  los angeles  2018-09-26T00:00:00  227.538462\n20  los angeles  2018-09-27T00:00:00  238.692308\n21  los angeles  2018-09-28T00:00:00  212.615385\n22  los angeles  2018-09-29T00:00:00  192.692308\n23  los angeles  2018-09-30T00:00:00  209.692308\n24   manchester  2018-09-23T00:00:00  113.000000\n25   manchester  2018-09-24T00:00:00  103.000000\n26   manchester  2018-09-25T00:00:00   92.000000\n27   manchester  2018-09-26T00:00:00  198.000000\n28   manchester  2018-09-27T00:00:00  187.000000\n29   manchester  2018-09-28T00:00:00  144.000000\n30   manchester  2018-09-29T00:00:00  128.000000\n31   manchester  2018-09-30T00:00:00  107.000000\n"
     ]
    }
   ],
   "source": [
    "# Aggregate on city and date\n",
    "new_df_aggregated = new_df.groupby([\"city\", \"date\"], as_index=False)[\"TAVG\"].mean()\n",
    "print(new_df_aggregated)"
   ]
  },
  {
   "cell_type": "code",
   "execution_count": 25,
   "metadata": {},
   "outputs": [
    {
     "name": "stdout",
     "output_type": "stream",
     "text": [
      "           city country                 date        TAVG\n0   los angeles      US  2018-09-23T00:00:00  216.384615\n1   los angeles      US  2018-09-24T00:00:00  195.923077\n2   los angeles      US  2018-09-25T00:00:00  202.923077\n3   los angeles      US  2018-09-26T00:00:00  227.538462\n4   los angeles      US  2018-09-27T00:00:00  238.692308\n5   los angeles      US  2018-09-28T00:00:00  212.615385\n6   los angeles      US  2018-09-29T00:00:00  192.692308\n7   los angeles      US  2018-09-30T00:00:00  209.692308\n8      New york      US  2018-09-23T00:00:00  174.000000\n9      New york      US  2018-09-24T00:00:00  176.333333\n10     New york      US  2018-09-25T00:00:00  184.666667\n11     New york      US  2018-09-26T00:00:00  239.333333\n12     New york      US  2018-09-27T00:00:00  206.666667\n13     New york      US  2018-09-28T00:00:00  170.000000\n14     New york      US  2018-09-29T00:00:00  182.000000\n15     New york      US  2018-09-30T00:00:00  174.333333\n16     Shanghai   China  2018-09-23T00:00:00  254.500000\n17     Shanghai   China  2018-09-24T00:00:00  210.000000\n18     Shanghai   China  2018-09-25T00:00:00  233.000000\n19     Shanghai   China  2018-09-26T00:00:00  234.500000\n20     Shanghai   China  2018-09-27T00:00:00  236.000000\n21     Shanghai   China  2018-09-28T00:00:00  239.000000\n22     Shanghai   China  2018-09-29T00:00:00  232.500000\n23     Shanghai   China  2018-09-30T00:00:00  232.000000\n24        SAFDA    fwfb                  NaN         NaN\n25   manchester      UK  2018-09-23T00:00:00  113.000000\n26   manchester      UK  2018-09-24T00:00:00  103.000000\n27   manchester      UK  2018-09-25T00:00:00   92.000000\n28   manchester      UK  2018-09-26T00:00:00  198.000000\n29   manchester      UK  2018-09-27T00:00:00  187.000000\n30   manchester      UK  2018-09-28T00:00:00  144.000000\n31   manchester      UK  2018-09-29T00:00:00  128.000000\n32   manchester      UK  2018-09-30T00:00:00  107.000000\n"
     ]
    }
   ],
   "source": [
    "df = pd.merge(left=old_df, right=new_df_aggregated, left_on='city', right_on='city', how='outer')\n",
    "print(df)"
   ]
  },
  {
   "cell_type": "markdown",
   "metadata": {},
   "source": [
    "We can also unstack new datagrame to form more columns and so that we will not produce extra rows"
   ]
  },
  {
   "cell_type": "code",
   "execution_count": 26,
   "metadata": {},
   "outputs": [
    {
     "name": "stdout",
     "output_type": "stream",
     "text": [
      "date         city  2018-09-23T00:00:00  2018-09-24T00:00:00  \\\n0        New york           174.000000           176.333333   \n1        Shanghai           254.500000           210.000000   \n2     los angeles           216.384615           195.923077   \n3      manchester           113.000000           103.000000   \n\ndate  2018-09-25T00:00:00  2018-09-26T00:00:00  2018-09-27T00:00:00  \\\n0              184.666667           239.333333           206.666667   \n1              233.000000           234.500000           236.000000   \n2              202.923077           227.538462           238.692308   \n3               92.000000           198.000000           187.000000   \n\ndate  2018-09-28T00:00:00  2018-09-29T00:00:00  2018-09-30T00:00:00  \n0              170.000000           182.000000           174.333333  \n1              239.000000           232.500000           232.000000  \n2              212.615385           192.692308           209.692308  \n3              144.000000           128.000000           107.000000  \n"
     ]
    }
   ],
   "source": [
    "new_df_unstacked = new_df.groupby([\"city\", \"date\"])[\"TAVG\"].mean().unstack().reset_index(level=['city'])\n",
    "print(new_df_unstacked)"
   ]
  },
  {
   "cell_type": "code",
   "execution_count": 27,
   "metadata": {},
   "outputs": [
    {
     "name": "stdout",
     "output_type": "stream",
     "text": [
      "          city country  2018-09-23T00:00:00  2018-09-24T00:00:00  \\\n0  los angeles      US           216.384615           195.923077   \n1     New york      US           174.000000           176.333333   \n2     Shanghai   China           254.500000           210.000000   \n3        SAFDA    fwfb                  NaN                  NaN   \n4   manchester      UK           113.000000           103.000000   \n\n   2018-09-25T00:00:00  2018-09-26T00:00:00  2018-09-27T00:00:00  \\\n0           202.923077           227.538462           238.692308   \n1           184.666667           239.333333           206.666667   \n2           233.000000           234.500000           236.000000   \n3                  NaN                  NaN                  NaN   \n4            92.000000           198.000000           187.000000   \n\n   2018-09-28T00:00:00  2018-09-29T00:00:00  2018-09-30T00:00:00  \n0           212.615385           192.692308           209.692308  \n1           170.000000           182.000000           174.333333  \n2           239.000000           232.500000           232.000000  \n3                  NaN                  NaN                  NaN  \n4           144.000000           128.000000           107.000000  \n"
     ]
    }
   ],
   "source": [
    "df = pd.merge(left=old_df, right=new_df_unstacked, left_on='city', right_on='city', how='outer')\n",
    "print(df)"
   ]
  }
 ],
 "metadata": {
  "kernelspec": {
   "display_name": "Python 2",
   "language": "python",
   "name": "python2"
  },
  "language_info": {
   "codemirror_mode": {
    "name": "ipython",
    "version": 2
   },
   "file_extension": ".py",
   "mimetype": "text/x-python",
   "name": "python",
   "nbconvert_exporter": "python",
   "pygments_lexer": "ipython2",
   "version": "2.7.6"
  }
 },
 "nbformat": 4,
 "nbformat_minor": 0
}
