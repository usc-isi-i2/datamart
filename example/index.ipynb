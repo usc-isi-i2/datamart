{
 "cells": [
  {
   "cell_type": "markdown",
   "metadata": {
    "collapsed": true
   },
   "source": [
    "### Create index and document"
   ]
  },
  {
   "cell_type": "code",
   "execution_count": 1,
   "metadata": {},
   "outputs": [],
   "source": [
    "import sys, os, json\n",
    "sys.path.append(os.path.join(os.getcwd(), '..'))\n",
    "from datamart.index_builder import IndexBuilder\n",
    "\n",
    "es_index = \"datamart_tmp\"   # es index for your metadata, make sure you change to your own\n",
    "\n",
    "index_builder = IndexBuilder()"
   ]
  },
  {
   "cell_type": "code",
   "execution_count": 2,
   "metadata": {},
   "outputs": [],
   "source": [
    "tmp_description_dir = \"./tmp\"  # dataset schema json file\n",
    "tmp_description = \"./tmp/tmp.json\"  # dir of all dataset schema json files\n",
    "tmp_out = \"./tmp/tmp.metadata\"  # output of metadata\n"
   ]
  },
  {
   "cell_type": "markdown",
   "metadata": {},
   "source": [
    "Indexing single dataset"
   ]
  },
  {
   "cell_type": "code",
   "execution_count": 3,
   "metadata": {},
   "outputs": [
    {
     "name": "stdout",
     "output_type": "stream",
     "text": [
      "- Creating metadata and indexing for ./tmp/tmp.json\n"
     ]
    }
   ],
   "source": [
    "this_metadata = index_builder.indexing(description_path=tmp_description,\n",
    "                                       es_index=es_index,\n",
    "                                       data_path=None,\n",
    "                                       query_data_for_indexing=False,\n",
    "                                       save_to_file=tmp_out,\n",
    "                                       save_to_file_mode=\"w\",\n",
    "                                       delete_old_es_index=True)\n"
   ]
  },
  {
   "cell_type": "markdown",
   "metadata": {},
   "source": [
    "Take a look at the last metadata generated"
   ]
  },
  {
   "cell_type": "code",
   "execution_count": 4,
   "metadata": {},
   "outputs": [
    {
     "name": "stdout",
     "output_type": "stream",
     "text": [
      "{\n",
      "  \"datamart_id\": 10000,\n",
      "  \"title\": \"TAVG\",\n",
      "  \"description\": \"Average temperature (tenths of degrees C)[Note that TAVG from source 'S' corresponds to an average for the period ending at 2400 UTC rather than local midnight]\",\n",
      "  \"url\": \"https://www1.ncdc.noaa.gov/pub/data/ghcn/daily/readme.txt\",\n",
      "  \"keywords\": [\n",
      "    \"Average Temperature.\"\n",
      "  ],\n",
      "  \"date_updated\": \"2018-09-28T00:00:00\",\n",
      "  \"provenance\": {\n",
      "    \"source\": \"noaa.org\"\n",
      "  },\n",
      "  \"materialization\": {\n",
      "    \"python_path\": \"noaa_materializer\",\n",
      "    \"arguments\": {\n",
      "      \"type\": \"TAVG\"\n",
      "    }\n",
      "  },\n",
      "  \"variables\": [\n",
      "    {\n",
      "      \"datamart_id\": 10001,\n",
      "      \"name\": \"date\",\n",
      "      \"description\": \"the date of data\",\n",
      "      \"semantic_type\": [\n",
      "        \"https://metadata.datadrivendiscovery.org/types/Time\"\n",
      "      ],\n",
      "      \"temporal_coverage\": {\n",
      "        \"start\": \"1874-10-13T00:00:00\",\n",
      "        \"end\": \"2018-10-01T00:00:00\"\n",
      "      }\n",
      "    },\n",
      "    {\n",
      "      \"datamart_id\": 10002,\n",
      "      \"name\": \"stationId\",\n",
      "      \"description\": \"the id of station which has this data\",\n",
      "      \"semantic_type\": [\n",
      "        \"https://metadata.datadrivendiscovery.org/types/CategoricalData\"\n",
      "      ]\n",
      "    },\n",
      "    {\n",
      "      \"datamart_id\": 10003,\n",
      "      \"name\": \"city\",\n",
      "      \"description\": \"the city data belongs to\",\n",
      "      \"semantic_type\": [\n",
      "        \"https://metadata.datadrivendiscovery.org/types/Location\"\n",
      "      ],\n",
      "      \"named_entity\": [\n",
      "        \"abu dhabi\",\n",
      "        \"ajman\",\n",
      "        \"dubai\"\n",
      "      ]\n",
      "    },\n",
      "    {\n",
      "      \"datamart_id\": 10004,\n",
      "      \"name\": \"TAVG\",\n",
      "      \"description\": \"Average temperature (tenths of degrees C)[Note that TAVG from source 'S' corresponds to an average for the period ending at 2400 UTC rather than local midnight]\",\n",
      "      \"semantic_type\": [\n",
      "        \"http://schema.org/Float\"\n",
      "      ]\n",
      "    }\n",
      "  ],\n",
      "  \"augmented_keywords\": \"ttttttttttt\"\n",
      "}\n"
     ]
    }
   ],
   "source": [
    "print(json.dumps(this_metadata, indent=2))"
   ]
  },
  {
   "cell_type": "code",
   "execution_count": 6,
   "metadata": {},
   "outputs": [
    {
     "name": "stdout",
     "output_type": "stream",
     "text": [
      "['Average Temperature.']\n"
     ]
    }
   ],
   "source": [
    "tt = this_metadata\n",
    "print(tt[\"keywords\"])"
   ]
  },
  {
   "cell_type": "markdown",
   "metadata": {},
   "source": [
    "Bulk indexing multiple dataset"
   ]
  },
  {
   "cell_type": "code",
   "execution_count": 5,
   "metadata": {},
   "outputs": [
    {
     "name": "stdout",
     "output_type": "stream",
     "text": [
      "==== Creating metadata and indexing for tmp.json\n"
     ]
    }
   ],
   "source": [
    "index_builder.bulk_indexing(description_dir=tmp_description_dir,\n",
    "                            es_index=es_index,\n",
    "                            data_dir=None,\n",
    "                            query_data_for_indexing=True,\n",
    "                            save_to_file=tmp_out,\n",
    "                            save_to_file_mode=\"w\",\n",
    "                            delete_old_es_index=True)\n"
   ]
  },
  {
   "cell_type": "markdown",
   "metadata": {},
   "source": [
    "Index is built in elasticsearch, check it here: http://dsbox02.isi.edu:9200/_cat/indices?v\n",
    "\n",
    "Try some query through Kibana: http://dsbox02.isi.edu:5601/app/kibana#/dev_tools/console?_g=()"
   ]
  },
  {
   "cell_type": "markdown",
   "metadata": {},
   "source": [
    "Output metadata is written to `save_to_file` in indexing"
   ]
  }
 ],
 "metadata": {
  "kernelspec": {
   "display_name": "Python 3",
   "language": "python",
   "name": "python3"
  },
  "language_info": {
   "codemirror_mode": {
    "name": "ipython",
    "version": 3
   },
   "file_extension": ".py",
   "mimetype": "text/x-python",
   "name": "python",
   "nbconvert_exporter": "python",
   "pygments_lexer": "ipython3",
   "version": "3.6.8"
  }
 },
 "nbformat": 4,
 "nbformat_minor": 1
}
